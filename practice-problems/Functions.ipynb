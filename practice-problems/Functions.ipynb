{
 "cells": [
  {
   "cell_type": "markdown",
   "metadata": {},
   "source": [
    "# Functions\n",
    "\n",
    "The problems in this notebook correpond to the <a href=\"../lectures/Writing Functions.ipynb\">Writing Functions</a> notebook."
   ]
  },
  {
   "cell_type": "markdown",
   "metadata": {},
   "source": [
    "## Basic Problems\n",
    "\n",
    "1. Write a function that takes in three arguments and subtracts the second from the first then adds the third."
   ]
  },
  {
   "cell_type": "code",
   "execution_count": 1,
   "metadata": {},
   "outputs": [
    {
     "data": {
      "text/plain": [
       "31"
      ]
     },
     "execution_count": 1,
     "metadata": {},
     "output_type": "execute_result"
    }
   ],
   "source": [
    "## Code here\n",
    "\n",
    "\n",
    "def subtractfunc_1(x,y,z):\n",
    "    return y-x+z\n",
    "\n",
    "subtractfunc_1(3,4,30)\n"
   ]
  },
  {
   "cell_type": "markdown",
   "metadata": {},
   "source": [
    "2. Write a function that takes in an $x$ and $y$ and tells you whether or not the point $(x,y)$ is above the line $y = x + 2$."
   ]
  },
  {
   "cell_type": "code",
   "execution_count": 15,
   "metadata": {},
   "outputs": [
    {
     "name": "stdout",
     "output_type": "stream",
     "text": [
      "the point (4, 3) is on or below the line y=x+2\n"
     ]
    }
   ],
   "source": [
    "## Code here\n",
    "\n",
    "def func_aboveline(x,y):\n",
    "    if (y > x+2):\n",
    "        print(\"the point\", (x,y), \"is above the line y=x+2\")\n",
    "    else:\n",
    "        print(\"the point\", (x,y), \"is on or below the line y=x+2\")\n",
    "        \n",
    "func_aboveline(4,3)\n",
    "\n"
   ]
  },
  {
   "cell_type": "markdown",
   "metadata": {},
   "source": [
    "3. Write a function that takes in an argument and tells you whether it is an `str`. Hint: Remember the `type` function in python."
   ]
  },
  {
   "cell_type": "code",
   "execution_count": 18,
   "metadata": {},
   "outputs": [
    {
     "name": "stdout",
     "output_type": "stream",
     "text": [
      "The input apple is a string\n"
     ]
    }
   ],
   "source": [
    "## Code here\n",
    "\n",
    "def check_str(x):\n",
    "    if type(x) == str:\n",
    "        print(\"The input \"+ x + \" is a string\")\n",
    "    else:\n",
    "        print(x + \" is not a string\")\n",
    "        \n",
    "check_str(\"apple\")        \n",
    "\n",
    "\n"
   ]
  },
  {
   "cell_type": "markdown",
   "metadata": {},
   "source": [
    "4. Write a function that takes in a name and says hello to that name."
   ]
  },
  {
   "cell_type": "code",
   "execution_count": 22,
   "metadata": {},
   "outputs": [
    {
     "name": "stdout",
     "output_type": "stream",
     "text": [
      "Hello Rucha\n"
     ]
    }
   ],
   "source": [
    "## Code here\n",
    "\n",
    "def hello_name(name):\n",
    "    print(\"Hello\", name)\n",
    "    \n",
    "hello_name(\"Rucha\")\n",
    "\n"
   ]
  },
  {
   "cell_type": "markdown",
   "metadata": {},
   "source": [
    "5. Write a function that takes in a number and a value, `p`, and returns a $-1$ if the number is below `p` and a $1$ if the number is above `p`."
   ]
  },
  {
   "cell_type": "code",
   "execution_count": 30,
   "metadata": {},
   "outputs": [],
   "source": [
    "## Code here\n",
    "\n",
    "def check_p(x,p):\n",
    "    if x > p:\n",
    "        return 1\n",
    "    elif x < p: \n",
    "        return -1\n",
    "    else:\n",
    "        return None\n",
    "    \n",
    "check_p(2,2)\n",
    "\n"
   ]
  },
  {
   "cell_type": "markdown",
   "metadata": {},
   "source": [
    "## More Advanced Problems\n",
    "\n",
    "1. Taxable income is determined on a bracket system, where the taxes you owe are determined by  the bracket below:\n",
    "<img src = \"single_tax.png\" style=\"width:60%\"></img>\n",
    "Write a function that takes in someone's taxable income and computes how much they owe the federal government."
   ]
  },
  {
   "cell_type": "code",
   "execution_count": 36,
   "metadata": {},
   "outputs": [
    {
     "name": "stdout",
     "output_type": "stream",
     "text": [
      "The tax owed is 156235.37\n"
     ]
    }
   ],
   "source": [
    "## Code here\n",
    "\n",
    "def calculate_tax(income):\n",
    "    if (0<=income<=9875):\n",
    "        print(\"The tax owed is\", .1*income)\n",
    "    elif (income < 40126):\n",
    "        print(\"The tax owed is\", 987.50+.12*(income-9875))\n",
    "    elif (income < 85526):\n",
    "        print(\"The tax owed is\", 4617.50+.22*(income-40125))\n",
    "    elif (income < 163301):\n",
    "        print(\"The tax owed is\", 14605.50+.24*(income-85525))\n",
    "    elif (income < 207351):\n",
    "        print(\"The tax owed is\", 33271.50 + .32*(income-163300))\n",
    "    elif (income < 518401):\n",
    "        print(\"The tax owed is\", 47367.50+.35*(income-207350))\n",
    "    elif (income >= 518401):\n",
    "        print(\"The tax owed is\", 156235+.37*(income-518400))\n",
    "    else:\n",
    "        return None\n",
    "\n",
    "calculate_tax(518401)"
   ]
  },
  {
   "cell_type": "code",
   "execution_count": null,
   "metadata": {},
   "outputs": [],
   "source": [
    "## Code here\n",
    "\n",
    "\n",
    "\n"
   ]
  },
  {
   "cell_type": "code",
   "execution_count": null,
   "metadata": {},
   "outputs": [],
   "source": [
    "## Code here\n",
    "\n",
    "\n",
    "\n"
   ]
  },
  {
   "cell_type": "markdown",
   "metadata": {},
   "source": [
    "2. You can approximate $\\pi$ with the following sum:\n",
    "$$\n",
    "\\sum_{i=0}^N \\frac{8}{\\left( 4i + 1 \\right) \\left( 4i + 3 \\right)},\n",
    "$$\n",
    "Write a function that takes in a value for $N$ and returns an approximation of $\\pi$."
   ]
  },
  {
   "cell_type": "code",
   "execution_count": 44,
   "metadata": {},
   "outputs": [
    {
     "data": {
      "text/plain": [
       "3.141592153590402"
      ]
     },
     "execution_count": 44,
     "metadata": {},
     "output_type": "execute_result"
    }
   ],
   "source": [
    "## Code here\n",
    "\n",
    "def approximate_pi(N):\n",
    "    return sum([8/((4*i+1)*(4*i+3)) for i in range(N+1)])\n",
    "\n",
    "approximate_pi(1000000)"
   ]
  },
  {
   "cell_type": "code",
   "execution_count": null,
   "metadata": {},
   "outputs": [],
   "source": [
    "## Code here\n",
    "\n",
    "\n",
    "\n"
   ]
  },
  {
   "cell_type": "code",
   "execution_count": null,
   "metadata": {},
   "outputs": [],
   "source": [
    "## Code here\n",
    "\n",
    "\n",
    "\n"
   ]
  },
  {
   "cell_type": "markdown",
   "metadata": {},
   "source": [
    "3. Write a function that takes in a list of words, and returns a word count dictionary that contains the number of times each unique word shows up in the list. Test it on the list of words stored in `sample_words`."
   ]
  },
  {
   "cell_type": "code",
   "execution_count": 45,
   "metadata": {},
   "outputs": [
    {
     "data": {
      "text/plain": [
       "'programming'"
      ]
     },
     "execution_count": 45,
     "metadata": {},
     "output_type": "execute_result"
    }
   ],
   "source": [
    "sample_words = [\"apple\", \"banana\", \"apple\", \"computer\", \"computer\",\n",
    "               \"programming\", \"language\", \"Obama\", \"Bush\", \"Trump\",\n",
    "               \"Eisenhower\", \"president\", \"president\", \"president\",\n",
    "               \"president\", \"dog\", \"dog\", \"cat\", \"duck\", \"duck\", \"goose\",\n",
    "               \"baseball\", \"basketball\", \"football\", \"hockey\", \"soccer\",\n",
    "               \"sports\", \"lebron\", \"james\", \"darius\", \"garland\"]\n",
    "\n",
    "sample_words[5]"
   ]
  },
  {
   "cell_type": "code",
   "execution_count": 46,
   "metadata": {},
   "outputs": [],
   "source": [
    "## Code here\n",
    "\n",
    "def word_count(word_list):\n",
    "    word_dict = {}\n",
    "    \n",
    "    for word in word_list:\n",
    "        if word in word_dict.keys():\n",
    "            word_dict[word] = word_dict[word] + 1\n",
    "        else:\n",
    "            word_dict[word] = 1\n",
    "    return word_dict\n",
    "        \n",
    "        \n",
    "\n"
   ]
  },
  {
   "cell_type": "code",
   "execution_count": 47,
   "metadata": {},
   "outputs": [
    {
     "data": {
      "text/plain": [
       "{'apple': 2,\n",
       " 'banana': 1,\n",
       " 'computer': 2,\n",
       " 'programming': 1,\n",
       " 'language': 1,\n",
       " 'Obama': 1,\n",
       " 'Bush': 1,\n",
       " 'Trump': 1,\n",
       " 'Eisenhower': 1,\n",
       " 'president': 4,\n",
       " 'dog': 2,\n",
       " 'cat': 1,\n",
       " 'duck': 2,\n",
       " 'goose': 1,\n",
       " 'baseball': 1,\n",
       " 'basketball': 1,\n",
       " 'football': 1,\n",
       " 'hockey': 1,\n",
       " 'soccer': 1,\n",
       " 'sports': 1,\n",
       " 'lebron': 1,\n",
       " 'james': 1,\n",
       " 'darius': 1,\n",
       " 'garland': 1}"
      ]
     },
     "execution_count": 47,
     "metadata": {},
     "output_type": "execute_result"
    }
   ],
   "source": [
    "## Code here\n",
    "\n",
    "word_count(sample_words)\n",
    "\n"
   ]
  },
  {
   "cell_type": "code",
   "execution_count": null,
   "metadata": {},
   "outputs": [],
   "source": [
    "## Code here\n",
    "\n",
    "\n",
    "\n"
   ]
  },
  {
   "cell_type": "markdown",
   "metadata": {},
   "source": [
    "--------------------------\n",
    "\n",
    "This notebook was written for the Erd&#337;s Institute C&#337;de Data Science Boot Camp by Matthew Osborne, Ph. D., 2022.\n",
    "\n",
    "Any potential redistributors must seek and receive permission from Matthew Tyler Osborne, Ph.D. prior to redistribution. Redistribution of the material contained in this repository is conditional on acknowledgement of Matthew Tyler Osborne, Ph.D.'s original authorship and sponsorship of the Erdős Institute as subject to the license (see License.md)"
   ]
  },
  {
   "cell_type": "code",
   "execution_count": null,
   "metadata": {},
   "outputs": [],
   "source": []
  }
 ],
 "metadata": {
  "kernelspec": {
   "display_name": "Python 3 (ipykernel)",
   "language": "python",
   "name": "python3"
  },
  "language_info": {
   "codemirror_mode": {
    "name": "ipython",
    "version": 3
   },
   "file_extension": ".py",
   "mimetype": "text/x-python",
   "name": "python",
   "nbconvert_exporter": "python",
   "pygments_lexer": "ipython3",
   "version": "3.11.7"
  }
 },
 "nbformat": 4,
 "nbformat_minor": 2
}
