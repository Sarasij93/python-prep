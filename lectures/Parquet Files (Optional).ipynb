{
 "cells": [
  {
   "cell_type": "markdown",
   "id": "a128f4d7",
   "metadata": {},
   "source": [
    "# Parquet Files (Optional)\n",
    "\n",
    "As we mentioned in <a href=\"Data File Types.ipynb\">Data File Types</a>, `.parquet` files are a useful data file type. They can help improve query speed, decrease memory requirements, and speed up column based calculations.\n",
    "\n",
    "## What we will accomplish\n",
    "\n",
    "In this notebook we will:\n",
    "- Dive a little deeper into the `.parquet` file type,\n",
    "- Learn a bit more about how `.parquet` files improve query performance,\n",
    "- Talk about the `pyarrow` package, and\n",
    "- Demonstrate concepts with an actual `.parquet` file."
   ]
  },
  {
   "cell_type": "code",
   "execution_count": 1,
   "id": "6f1d1d6e",
   "metadata": {},
   "outputs": [],
   "source": [
    "import pandas as pd"
   ]
  },
  {
   "cell_type": "markdown",
   "id": "33944e23",
   "metadata": {},
   "source": [
    "In the following notebook we will use a fictional data set, `study_results`, that contains the results of a study examining the effectiveness of three treatments on reducing recovery time in adults. We can load the `.csv` version of these data with `read_csv`. We will eventually look at a parquet equivalent of this file later in the notebook."
   ]
  },
  {
   "cell_type": "code",
   "execution_count": 2,
   "id": "e455f4af",
   "metadata": {},
   "outputs": [
    {
     "data": {
      "text/html": [
       "<div>\n",
       "<style scoped>\n",
       "    .dataframe tbody tr th:only-of-type {\n",
       "        vertical-align: middle;\n",
       "    }\n",
       "\n",
       "    .dataframe tbody tr th {\n",
       "        vertical-align: top;\n",
       "    }\n",
       "\n",
       "    .dataframe thead th {\n",
       "        text-align: right;\n",
       "    }\n",
       "</style>\n",
       "<table border=\"1\" class=\"dataframe\">\n",
       "  <thead>\n",
       "    <tr style=\"text-align: right;\">\n",
       "      <th></th>\n",
       "      <th>sex</th>\n",
       "      <th>treatment</th>\n",
       "      <th>age</th>\n",
       "      <th>recovery</th>\n",
       "    </tr>\n",
       "  </thead>\n",
       "  <tbody>\n",
       "    <tr>\n",
       "      <th>0</th>\n",
       "      <td>F</td>\n",
       "      <td>A</td>\n",
       "      <td>19</td>\n",
       "      <td>12</td>\n",
       "    </tr>\n",
       "    <tr>\n",
       "      <th>1</th>\n",
       "      <td>F</td>\n",
       "      <td>A</td>\n",
       "      <td>21</td>\n",
       "      <td>2</td>\n",
       "    </tr>\n",
       "    <tr>\n",
       "      <th>2</th>\n",
       "      <td>F</td>\n",
       "      <td>A</td>\n",
       "      <td>22</td>\n",
       "      <td>13</td>\n",
       "    </tr>\n",
       "    <tr>\n",
       "      <th>3</th>\n",
       "      <td>F</td>\n",
       "      <td>A</td>\n",
       "      <td>24</td>\n",
       "      <td>12</td>\n",
       "    </tr>\n",
       "    <tr>\n",
       "      <th>4</th>\n",
       "      <td>F</td>\n",
       "      <td>A</td>\n",
       "      <td>28</td>\n",
       "      <td>3</td>\n",
       "    </tr>\n",
       "  </tbody>\n",
       "</table>\n",
       "</div>"
      ],
      "text/plain": [
       "  sex treatment  age  recovery\n",
       "0   F         A   19        12\n",
       "1   F         A   21         2\n",
       "2   F         A   22        13\n",
       "3   F         A   24        12\n",
       "4   F         A   28         3"
      ]
     },
     "execution_count": 2,
     "metadata": {},
     "output_type": "execute_result"
    }
   ],
   "source": [
    "df_csv = pd.read_csv(\"../data/study_results.csv\")\n",
    "\n",
    "df_csv.head()"
   ]
  },
  {
   "cell_type": "code",
   "execution_count": 3,
   "id": "3e7f5ceb",
   "metadata": {},
   "outputs": [
    {
     "data": {
      "text/plain": [
       "120"
      ]
     },
     "execution_count": 3,
     "metadata": {},
     "output_type": "execute_result"
    }
   ],
   "source": [
    "len(df_csv)"
   ]
  },
  {
   "cell_type": "markdown",
   "id": "95dd080f",
   "metadata": {},
   "source": [
    "## Row format compared to columnar format\n",
    "\n",
    "Recall that file types like `.csv`s and `.tsv`s store data in a row-based format like so:\n",
    "\n",
    "<img src=\"row_based.png\" width=\"40%\"></img>\n",
    "\n",
    "and `.parquet` files store their data in a columnar format like so:\n",
    "\n",
    "<img src=\"columnar.png\" width=\"60%\"></img>\n",
    "\n",
    "Above, this columnar format was hidden from us, in a sense, by `pandas` because `read_parquet` automatically converts the `.parquet` file into a `pandas` `DataFrame` which has a row-based approach to storing data. However, the columnar approach gives `.parquet` files its most desirable quality for data analysts and scientists, increased column querying speed.\n",
    "\n",
    "### Increasing column query speed\n",
    "\n",
    "Many real world applications have data sets with many columns (think hundreds or more), but you will commonly only want to use relatively few columns for any given analysis or application. Row-based formats are slow to subselect a set of columns because you need to traverse each row (of which there may be millions) and select the appropriate values. By contrast, with columnar formats you only need to traverse the set of columns and choose the ones you want, this is much faster because there are typically much fewer columns than rows.\n",
    "\n",
    "## Actually directories\n",
    "\n",
    "Up to this point we have thought of parquet files as single files. While there are distinct `.parquet` files, it is more common in practice to deal with the parquet format as a directory of `.parquet` files.\n",
    "\n",
    "### Partitioning\n",
    "\n",
    "For a given data set a single `.parquet` file tends to only store a subset of the data. This subset is formed through partitioning. For example, the study data are split according to sex and then according to treatment group as described in the schematic below.\n",
    "\n",
    "\n",
    "<img src=\"partition.png\" width=\"20%\"></img>\n",
    "\n",
    "We can implement such a partitioning using `to_parquet` along with the `partition_cols` argument which takes in a `list` of column names along which the data are partitioned. Let's do that now with our `study_data.csv` data."
   ]
  },
  {
   "cell_type": "code",
   "execution_count": 4,
   "id": "2ae49933",
   "metadata": {},
   "outputs": [],
   "source": [
    "## Note that when we do this we are naming a directory\n",
    "## NOT a file, so there is no .parquet file at the end\n",
    "## of the file name\n",
    "df_csv.to_parquet(\"../data/study_data_parquet/\",\n",
    "                 partition_cols=[\"sex\", \"treatment\"],\n",
    "                 index=False)"
   ]
  },
  {
   "cell_type": "markdown",
   "id": "a579d1c1",
   "metadata": {},
   "source": [
    "Now if you go to the `data` folder you will see the folder `study_data_parquet` in there. Inside that folder are `sex=M` and `sex=F` folders, each of which contain `treatment=A`, `treatment=B`, `treatment=C` folders as demonstrated in the sequential images below:\n",
    "\n",
    "In the `data` folder:\n",
    "<img src=\"study_parq_folder_1.png\" width=\"90%\"></img>\n",
    "\n",
    "In the `data/study_data_parquet` folder:\n",
    "<img src=\"study_parq_folder_2.png\" width=\"90%\"></img>\n",
    "\n",
    "In the `data/study_data_parquet/sex=F` folder:\n",
    "<img src=\"study_parq_folder_3.png\" width=\"90%\"></img>\n",
    "\n",
    "In the `data/study_data_parquet/sex=F/treatment=A` folder:\n",
    "<img src=\"study_parq_folder_4.png\" width=\"90%\"></img>\n",
    "\n",
    "Even though the parquet \"file\" is a directory you can still read it in using `read_parquet`."
   ]
  },
  {
   "cell_type": "code",
   "execution_count": 5,
   "id": "bd54b551",
   "metadata": {},
   "outputs": [],
   "source": [
    "df_parq = pd.read_parquet(\"../data/study_data_parquet/\")"
   ]
  },
  {
   "cell_type": "code",
   "execution_count": 6,
   "id": "b027b4f4",
   "metadata": {},
   "outputs": [
    {
     "data": {
      "text/html": [
       "<div>\n",
       "<style scoped>\n",
       "    .dataframe tbody tr th:only-of-type {\n",
       "        vertical-align: middle;\n",
       "    }\n",
       "\n",
       "    .dataframe tbody tr th {\n",
       "        vertical-align: top;\n",
       "    }\n",
       "\n",
       "    .dataframe thead th {\n",
       "        text-align: right;\n",
       "    }\n",
       "</style>\n",
       "<table border=\"1\" class=\"dataframe\">\n",
       "  <thead>\n",
       "    <tr style=\"text-align: right;\">\n",
       "      <th></th>\n",
       "      <th>age</th>\n",
       "      <th>recovery</th>\n",
       "      <th>sex</th>\n",
       "      <th>treatment</th>\n",
       "    </tr>\n",
       "  </thead>\n",
       "  <tbody>\n",
       "    <tr>\n",
       "      <th>0</th>\n",
       "      <td>19</td>\n",
       "      <td>12</td>\n",
       "      <td>F</td>\n",
       "      <td>A</td>\n",
       "    </tr>\n",
       "    <tr>\n",
       "      <th>1</th>\n",
       "      <td>21</td>\n",
       "      <td>2</td>\n",
       "      <td>F</td>\n",
       "      <td>A</td>\n",
       "    </tr>\n",
       "    <tr>\n",
       "      <th>2</th>\n",
       "      <td>22</td>\n",
       "      <td>13</td>\n",
       "      <td>F</td>\n",
       "      <td>A</td>\n",
       "    </tr>\n",
       "    <tr>\n",
       "      <th>3</th>\n",
       "      <td>24</td>\n",
       "      <td>12</td>\n",
       "      <td>F</td>\n",
       "      <td>A</td>\n",
       "    </tr>\n",
       "    <tr>\n",
       "      <th>4</th>\n",
       "      <td>28</td>\n",
       "      <td>3</td>\n",
       "      <td>F</td>\n",
       "      <td>A</td>\n",
       "    </tr>\n",
       "    <tr>\n",
       "      <th>...</th>\n",
       "      <td>...</td>\n",
       "      <td>...</td>\n",
       "      <td>...</td>\n",
       "      <td>...</td>\n",
       "    </tr>\n",
       "    <tr>\n",
       "      <th>115</th>\n",
       "      <td>59</td>\n",
       "      <td>14</td>\n",
       "      <td>M</td>\n",
       "      <td>C</td>\n",
       "    </tr>\n",
       "    <tr>\n",
       "      <th>116</th>\n",
       "      <td>61</td>\n",
       "      <td>11</td>\n",
       "      <td>M</td>\n",
       "      <td>C</td>\n",
       "    </tr>\n",
       "    <tr>\n",
       "      <th>117</th>\n",
       "      <td>61</td>\n",
       "      <td>13</td>\n",
       "      <td>M</td>\n",
       "      <td>C</td>\n",
       "    </tr>\n",
       "    <tr>\n",
       "      <th>118</th>\n",
       "      <td>62</td>\n",
       "      <td>8</td>\n",
       "      <td>M</td>\n",
       "      <td>C</td>\n",
       "    </tr>\n",
       "    <tr>\n",
       "      <th>119</th>\n",
       "      <td>64</td>\n",
       "      <td>7</td>\n",
       "      <td>M</td>\n",
       "      <td>C</td>\n",
       "    </tr>\n",
       "  </tbody>\n",
       "</table>\n",
       "<p>120 rows × 4 columns</p>\n",
       "</div>"
      ],
      "text/plain": [
       "     age  recovery sex treatment\n",
       "0     19        12   F         A\n",
       "1     21         2   F         A\n",
       "2     22        13   F         A\n",
       "3     24        12   F         A\n",
       "4     28         3   F         A\n",
       "..   ...       ...  ..       ...\n",
       "115   59        14   M         C\n",
       "116   61        11   M         C\n",
       "117   61        13   M         C\n",
       "118   62         8   M         C\n",
       "119   64         7   M         C\n",
       "\n",
       "[120 rows x 4 columns]"
      ]
     },
     "execution_count": 6,
     "metadata": {},
     "output_type": "execute_result"
    }
   ],
   "source": [
    "df_parq"
   ]
  },
  {
   "cell_type": "markdown",
   "id": "2911dae9",
   "metadata": {},
   "source": [
    "However, as we can see, this loads the entire data set as a single table, which may be undesirable if the data set is quite large. Luckily, there are alternative ways to loading a parquet file in python.\n",
    "\n",
    "## `pyarrow`\n",
    "\n",
    "One way to take greater advantage of the benefits of parquet is by using the `pyarrow` package, <a href=\"https://arrow.apache.org/docs/python/parquet.html\">https://arrow.apache.org/docs/python/parquet.html</a>, directly. First we need to import `parquet` from `pyarrow`"
   ]
  },
  {
   "cell_type": "code",
   "execution_count": 9,
   "id": "48d4555d",
   "metadata": {},
   "outputs": [],
   "source": [
    "## Import parquet as pq\n",
    "\n",
    "import pyarrow.parquet as pq"
   ]
  },
  {
   "cell_type": "markdown",
   "id": "a3ea4648",
   "metadata": {},
   "source": [
    "Next we can load the parquet directory with `pq.ParquetDataset`."
   ]
  },
  {
   "cell_type": "code",
   "execution_count": 10,
   "id": "7ea3c045",
   "metadata": {},
   "outputs": [],
   "source": [
    "## You can read in a directory with\n",
    "## pq.ParquetDataset(directory name)\n",
    "study_directory = pq.ParquetDataset(\"../data/study_data_parquet/\")"
   ]
  },
  {
   "cell_type": "markdown",
   "id": "0b74a335",
   "metadata": {},
   "source": [
    "We can see how the parquet directory was partitioned using `.partitioning.dictionaries`."
   ]
  },
  {
   "cell_type": "code",
   "execution_count": 12,
   "id": "ac9c6a0a",
   "metadata": {},
   "outputs": [
    {
     "data": {
      "text/plain": [
       "[<pyarrow.lib.StringArray object at 0x00000233FF554EE0>\n",
       " [\n",
       "   \"F\",\n",
       "   \"M\"\n",
       " ],\n",
       " <pyarrow.lib.StringArray object at 0x00000233803BA200>\n",
       " [\n",
       "   \"A\",\n",
       "   \"B\",\n",
       "   \"C\"\n",
       " ]]"
      ]
     },
     "execution_count": 12,
     "metadata": {},
     "output_type": "execute_result"
    }
   ],
   "source": [
    "study_directory.partitioning.dictionaries"
   ]
  },
  {
   "cell_type": "markdown",
   "id": "f52ed703",
   "metadata": {},
   "source": [
    "You can get the data using the `.read()` function. You can then turn it into a `pandas` `DataFrame` using `.to_pandas()`."
   ]
  },
  {
   "cell_type": "code",
   "execution_count": 13,
   "id": "68cc5483",
   "metadata": {},
   "outputs": [
    {
     "data": {
      "text/plain": [
       "pyarrow.Table\n",
       "age: int64\n",
       "recovery: int64\n",
       "sex: dictionary<values=string, indices=int32, ordered=0>\n",
       "treatment: dictionary<values=string, indices=int32, ordered=0>\n",
       "----\n",
       "age: [[19,21,22,24,28,...,56,58,58,59,63],[22,24,24,24,25,...,50,57,64,64,64],...,[19,19,19,22,26,...,48,49,52,55,56],[19,21,23,24,25,...,59,61,61,62,64]]\n",
       "recovery: [[12,2,13,12,3,...,12,13,14,10,3],[9,4,13,13,10,...,12,13,4,10,13],...,[3,9,10,8,12,...,6,6,9,3,14],[2,4,10,3,7,...,14,11,13,8,7]]\n",
       "sex: [  -- dictionary:\n",
       "[\"F\",\"M\"]  -- indices:\n",
       "[0,0,0,0,0,...,0,0,0,0,0],  -- dictionary:\n",
       "[\"F\",\"M\"]  -- indices:\n",
       "[0,0,0,0,0,...,0,0,0,0,0],...,  -- dictionary:\n",
       "[\"F\",\"M\"]  -- indices:\n",
       "[1,1,1,1,1,...,1,1,1,1,1],  -- dictionary:\n",
       "[\"F\",\"M\"]  -- indices:\n",
       "[1,1,1,1,1,...,1,1,1,1,1]]\n",
       "treatment: [  -- dictionary:\n",
       "[\"A\",\"B\",\"C\"]  -- indices:\n",
       "[0,0,0,0,0,...,0,0,0,0,0],  -- dictionary:\n",
       "[\"A\",\"B\",\"C\"]  -- indices:\n",
       "[1,1,1,1,1,...,1,1,1,1,1],...,  -- dictionary:\n",
       "[\"A\",\"B\",\"C\"]  -- indices:\n",
       "[1,1,1,1,1,...,1,1,1,1,1],  -- dictionary:\n",
       "[\"A\",\"B\",\"C\"]  -- indices:\n",
       "[2,2,2,2,2,...,2,2,2,2,2]]"
      ]
     },
     "execution_count": 13,
     "metadata": {},
     "output_type": "execute_result"
    }
   ],
   "source": [
    "## Creating a pyarrow Table object\n",
    "study_directory.read()"
   ]
  },
  {
   "cell_type": "code",
   "execution_count": 15,
   "id": "55164b91",
   "metadata": {},
   "outputs": [
    {
     "data": {
      "text/html": [
       "<div>\n",
       "<style scoped>\n",
       "    .dataframe tbody tr th:only-of-type {\n",
       "        vertical-align: middle;\n",
       "    }\n",
       "\n",
       "    .dataframe tbody tr th {\n",
       "        vertical-align: top;\n",
       "    }\n",
       "\n",
       "    .dataframe thead th {\n",
       "        text-align: right;\n",
       "    }\n",
       "</style>\n",
       "<table border=\"1\" class=\"dataframe\">\n",
       "  <thead>\n",
       "    <tr style=\"text-align: right;\">\n",
       "      <th></th>\n",
       "      <th>age</th>\n",
       "      <th>recovery</th>\n",
       "      <th>sex</th>\n",
       "      <th>treatment</th>\n",
       "    </tr>\n",
       "  </thead>\n",
       "  <tbody>\n",
       "    <tr>\n",
       "      <th>0</th>\n",
       "      <td>19</td>\n",
       "      <td>12</td>\n",
       "      <td>F</td>\n",
       "      <td>A</td>\n",
       "    </tr>\n",
       "    <tr>\n",
       "      <th>1</th>\n",
       "      <td>21</td>\n",
       "      <td>2</td>\n",
       "      <td>F</td>\n",
       "      <td>A</td>\n",
       "    </tr>\n",
       "    <tr>\n",
       "      <th>2</th>\n",
       "      <td>22</td>\n",
       "      <td>13</td>\n",
       "      <td>F</td>\n",
       "      <td>A</td>\n",
       "    </tr>\n",
       "    <tr>\n",
       "      <th>3</th>\n",
       "      <td>24</td>\n",
       "      <td>12</td>\n",
       "      <td>F</td>\n",
       "      <td>A</td>\n",
       "    </tr>\n",
       "    <tr>\n",
       "      <th>4</th>\n",
       "      <td>28</td>\n",
       "      <td>3</td>\n",
       "      <td>F</td>\n",
       "      <td>A</td>\n",
       "    </tr>\n",
       "    <tr>\n",
       "      <th>...</th>\n",
       "      <td>...</td>\n",
       "      <td>...</td>\n",
       "      <td>...</td>\n",
       "      <td>...</td>\n",
       "    </tr>\n",
       "    <tr>\n",
       "      <th>115</th>\n",
       "      <td>59</td>\n",
       "      <td>14</td>\n",
       "      <td>M</td>\n",
       "      <td>C</td>\n",
       "    </tr>\n",
       "    <tr>\n",
       "      <th>116</th>\n",
       "      <td>61</td>\n",
       "      <td>11</td>\n",
       "      <td>M</td>\n",
       "      <td>C</td>\n",
       "    </tr>\n",
       "    <tr>\n",
       "      <th>117</th>\n",
       "      <td>61</td>\n",
       "      <td>13</td>\n",
       "      <td>M</td>\n",
       "      <td>C</td>\n",
       "    </tr>\n",
       "    <tr>\n",
       "      <th>118</th>\n",
       "      <td>62</td>\n",
       "      <td>8</td>\n",
       "      <td>M</td>\n",
       "      <td>C</td>\n",
       "    </tr>\n",
       "    <tr>\n",
       "      <th>119</th>\n",
       "      <td>64</td>\n",
       "      <td>7</td>\n",
       "      <td>M</td>\n",
       "      <td>C</td>\n",
       "    </tr>\n",
       "  </tbody>\n",
       "</table>\n",
       "<p>120 rows × 4 columns</p>\n",
       "</div>"
      ],
      "text/plain": [
       "     age  recovery sex treatment\n",
       "0     19        12   F         A\n",
       "1     21         2   F         A\n",
       "2     22        13   F         A\n",
       "3     24        12   F         A\n",
       "4     28         3   F         A\n",
       "..   ...       ...  ..       ...\n",
       "115   59        14   M         C\n",
       "116   61        11   M         C\n",
       "117   61        13   M         C\n",
       "118   62         8   M         C\n",
       "119   64         7   M         C\n",
       "\n",
       "[120 rows x 4 columns]"
      ]
     },
     "execution_count": 15,
     "metadata": {},
     "output_type": "execute_result"
    }
   ],
   "source": [
    "## Turning a pyarrow table into a dataframe\n",
    "study_directory.read().to_pandas()"
   ]
  },
  {
   "cell_type": "markdown",
   "id": "497f37d8",
   "metadata": {},
   "source": [
    "If we want to filter the data before it is loaded, we can add a `filters` argument to `pq.ParquetDataset`."
   ]
  },
  {
   "cell_type": "code",
   "execution_count": 18,
   "id": "640336e7",
   "metadata": {},
   "outputs": [],
   "source": [
    "## filters takes in a list of tuples\n",
    "## each tuple has a logic condition\n",
    "## (the column string, the logical comparison, the value for comparison)\n",
    "## subsetting is performed in order of the list\n",
    "study_directory_F = pq.ParquetDataset(\"../data/study_data_parquet/\",\n",
    "                                         filters=[('sex', '==', 'F'),\n",
    "                                                 ('age', '<', 50)])"
   ]
  },
  {
   "cell_type": "code",
   "execution_count": 17,
   "id": "e6b3742b",
   "metadata": {},
   "outputs": [
    {
     "data": {
      "text/plain": [
       "sex\n",
       "F    60\n",
       "M     0\n",
       "Name: count, dtype: int64"
      ]
     },
     "execution_count": 17,
     "metadata": {},
     "output_type": "execute_result"
    }
   ],
   "source": [
    "## examine the filter in action\n",
    "study_directory_F.read().to_pandas().sex.value_counts()"
   ]
  },
  {
   "cell_type": "code",
   "execution_count": 19,
   "id": "0777c8f2",
   "metadata": {},
   "outputs": [
    {
     "data": {
      "text/plain": [
       "count    40.000000\n",
       "mean     32.950000\n",
       "std       8.218023\n",
       "min      19.000000\n",
       "25%      25.000000\n",
       "50%      32.500000\n",
       "75%      39.250000\n",
       "max      48.000000\n",
       "Name: age, dtype: float64"
      ]
     },
     "execution_count": 19,
     "metadata": {},
     "output_type": "execute_result"
    }
   ],
   "source": [
    "study_directory_F.read().to_pandas().age.describe()"
   ]
  },
  {
   "cell_type": "markdown",
   "id": "58a5694d",
   "metadata": {},
   "source": [
    "There are also ways to filter after you have loaded the directory, but we will touch on that in the corresponding practice problems notebook. If you are interested in learning more about how you can manage parquet files with `pyarrow`, check out their documentation:\n",
    "- Goes directly to handling parquet files: <a href=\"https://arrow.apache.org/docs/python/parquet.html\">https://arrow.apache.org/docs/python/parquet.html</a>,\n",
    "- Starts at the beginning of the documentation: <a href=\"https://arrow.apache.org/docs/python/getstarted.html\">https://arrow.apache.org/docs/python/getstarted.html</a>.\n",
    "\n",
    "That will be it for this notebook!"
   ]
  },
  {
   "cell_type": "markdown",
   "id": "2694b550",
   "metadata": {},
   "source": [
    "--------------------------\n",
    "\n",
    "This notebook was written for the Erd&#337;s Institute C&#337;de Data Science Boot Camp by Matthew Osborne, Ph. D., 2023.\n",
    "\n",
    "Any potential redistributors must seek and receive permission from Matthew Tyler Osborne, Ph.D. prior to redistribution. Redistribution of the material contained in this repository is conditional on acknowledgement of Matthew Tyler Osborne, Ph.D.'s original authorship and sponsorship of the Erdős Institute as subject to the license (see License.md)"
   ]
  }
 ],
 "metadata": {
  "kernelspec": {
   "display_name": "Python 3 (ipykernel)",
   "language": "python",
   "name": "python3"
  },
  "language_info": {
   "codemirror_mode": {
    "name": "ipython",
    "version": 3
   },
   "file_extension": ".py",
   "mimetype": "text/x-python",
   "name": "python",
   "nbconvert_exporter": "python",
   "pygments_lexer": "ipython3",
   "version": "3.11.7"
  }
 },
 "nbformat": 4,
 "nbformat_minor": 5
}
